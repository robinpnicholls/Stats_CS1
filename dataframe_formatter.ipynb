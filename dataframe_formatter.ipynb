{
 "cells": [
  {
   "cell_type": "markdown",
   "metadata": {},
   "source": [
    "## Reads covariates.xlsx and biomarkers.xlsx and flatten all variables related to a single patient."
   ]
  },
  {
   "cell_type": "code",
   "execution_count": 1,
   "metadata": {},
   "outputs": [],
   "source": [
    "import pandas as pd"
   ]
  },
  {
   "cell_type": "code",
   "execution_count": 3,
   "metadata": {},
   "outputs": [
    {
     "data": {
      "text/plain": [
       "<bound method NDFrame.describe of      PatientID  Age  Sex (1=male, 2=female)  Smoker (1=yes, 2=no)  \\\n",
       "0            1   56                       1                     2   \n",
       "1            3   32                       1                     2   \n",
       "2            4   43                       2                     2   \n",
       "3            5   25                       2                     2   \n",
       "4            6   39                       1                     2   \n",
       "..         ...  ...                     ...                   ...   \n",
       "113        143   55                       1                     1   \n",
       "114        149   46                       2                     2   \n",
       "115        150   57                       1                     1   \n",
       "116        151   25                       2                     2   \n",
       "117        152   53                       1                     2   \n",
       "\n",
       "     VAS-at-inclusion  Vas-12months  \n",
       "0                 3.0           4.0  \n",
       "1                 7.2           0.5  \n",
       "2                 2.7           0.5  \n",
       "3                 3.0           3.9  \n",
       "4                 3.5           5.0  \n",
       "..                ...           ...  \n",
       "113               6.0           2.0  \n",
       "114               5.0           9.0  \n",
       "115               1.0           9.0  \n",
       "116               8.0           6.0  \n",
       "117               9.0           1.2  \n",
       "\n",
       "[118 rows x 6 columns]>"
      ]
     },
     "execution_count": 3,
     "metadata": {},
     "output_type": "execute_result"
    }
   ],
   "source": [
    "xls = pd.ExcelFile('covariates.xlsx')\n",
    "covariates = pd.read_excel(xls, 'Ark1')\n",
    "covariates.describe"
   ]
  },
  {
   "cell_type": "code",
   "execution_count": 41,
   "metadata": {},
   "outputs": [
    {
     "data": {
      "text/plain": [
       "<bound method NDFrame.describe of         PatientID  IL-8  VEGF-A    OPG  TGF-beta-1  IL-6  CXCL9  CXCL1  IL-18  \\\n",
       "0      126-0weeks  7.63   11.51  10.20        8.83  3.52   6.16   9.45   7.91   \n",
       "1      126-6weeks  7.12   11.59  10.41        8.87  3.89   6.12   9.06   7.92   \n",
       "2      127-0weeks  6.93   10.92  10.30        6.59  2.73   6.14   7.31   7.95   \n",
       "3      127-6weeks  7.16   11.58  10.39        8.61  2.60   6.35   8.61   7.94   \n",
       "4    127-12months  6.87   11.13  10.25        7.44  3.92   6.15   8.79   7.94   \n",
       "..            ...   ...     ...    ...         ...   ...    ...    ...    ...   \n",
       "342    121-6weeks  7.21   12.89  10.69        8.90  3.14   5.97   8.00   8.17   \n",
       "343  121-12months  6.35   11.01   9.96        6.70  2.55   4.68   7.34   7.76   \n",
       "344    122-0weeks  7.86   12.80  10.73        9.30  2.93   6.73   9.60   8.25   \n",
       "345    122-6weeks  8.52   13.04  10.81        8.79  2.94   6.73   9.64   8.19   \n",
       "346    124-0weeks  6.51   11.38  10.07        7.78  3.29   5.97   7.17   8.68   \n",
       "\n",
       "     CSF-1  \n",
       "0     8.41  \n",
       "1     8.39  \n",
       "2     8.40  \n",
       "3     8.51  \n",
       "4     8.46  \n",
       "..     ...  \n",
       "342   8.42  \n",
       "343   8.11  \n",
       "344   8.60  \n",
       "345   8.64  \n",
       "346   8.55  \n",
       "\n",
       "[347 rows x 10 columns]>"
      ]
     },
     "execution_count": 41,
     "metadata": {},
     "output_type": "execute_result"
    }
   ],
   "source": [
    "biomarkers = pd.read_excel('biomarkers.xlsx', index_col=0)\n",
    "biomarkers = biomarkers.reset_index()\n",
    "biomarkers = biomarkers.rename(columns={'Biomarker': 'PatientID'})\n",
    "biomarkers.describe"
   ]
  },
  {
   "cell_type": "markdown",
   "metadata": {},
   "source": [
    "### Split df into three dataframes containing the three points (0weeks, 6weeks, 12months)"
   ]
  },
  {
   "cell_type": "code",
   "execution_count": 42,
   "metadata": {},
   "outputs": [
    {
     "data": {
      "text/html": [
       "<div>\n",
       "<style scoped>\n",
       "    .dataframe tbody tr th:only-of-type {\n",
       "        vertical-align: middle;\n",
       "    }\n",
       "\n",
       "    .dataframe tbody tr th {\n",
       "        vertical-align: top;\n",
       "    }\n",
       "\n",
       "    .dataframe thead th {\n",
       "        text-align: right;\n",
       "    }\n",
       "</style>\n",
       "<table border=\"1\" class=\"dataframe\">\n",
       "  <thead>\n",
       "    <tr style=\"text-align: right;\">\n",
       "      <th></th>\n",
       "      <th>PatientID</th>\n",
       "      <th>twelve_months_IL-8</th>\n",
       "      <th>twelve_months_VEGF-A</th>\n",
       "      <th>twelve_months_OPG</th>\n",
       "      <th>twelve_months_TGF-beta-1</th>\n",
       "      <th>twelve_months_IL-6</th>\n",
       "      <th>twelve_months_CXCL9</th>\n",
       "      <th>twelve_months_CXCL1</th>\n",
       "      <th>twelve_months_IL-18</th>\n",
       "      <th>twelve_months_CSF-1</th>\n",
       "    </tr>\n",
       "  </thead>\n",
       "  <tbody>\n",
       "    <tr>\n",
       "      <th>4</th>\n",
       "      <td>127-12months</td>\n",
       "      <td>6.87</td>\n",
       "      <td>11.13</td>\n",
       "      <td>10.25</td>\n",
       "      <td>7.44</td>\n",
       "      <td>3.92</td>\n",
       "      <td>6.15</td>\n",
       "      <td>8.79</td>\n",
       "      <td>7.94</td>\n",
       "      <td>8.46</td>\n",
       "    </tr>\n",
       "    <tr>\n",
       "      <th>7</th>\n",
       "      <td>128-12months</td>\n",
       "      <td>6.47</td>\n",
       "      <td>11.05</td>\n",
       "      <td>10.14</td>\n",
       "      <td>6.45</td>\n",
       "      <td>4.65</td>\n",
       "      <td>8.00</td>\n",
       "      <td>8.18</td>\n",
       "      <td>8.71</td>\n",
       "      <td>8.56</td>\n",
       "    </tr>\n",
       "    <tr>\n",
       "      <th>10</th>\n",
       "      <td>129-12months</td>\n",
       "      <td>6.56</td>\n",
       "      <td>10.84</td>\n",
       "      <td>10.50</td>\n",
       "      <td>7.42</td>\n",
       "      <td>3.01</td>\n",
       "      <td>5.81</td>\n",
       "      <td>8.82</td>\n",
       "      <td>7.62</td>\n",
       "      <td>8.39</td>\n",
       "    </tr>\n",
       "  </tbody>\n",
       "</table>\n",
       "</div>"
      ],
      "text/plain": [
       "       PatientID  twelve_months_IL-8  twelve_months_VEGF-A  twelve_months_OPG  \\\n",
       "4   127-12months                6.87                 11.13              10.25   \n",
       "7   128-12months                6.47                 11.05              10.14   \n",
       "10  129-12months                6.56                 10.84              10.50   \n",
       "\n",
       "    twelve_months_TGF-beta-1  twelve_months_IL-6  twelve_months_CXCL9  \\\n",
       "4                       7.44                3.92                 6.15   \n",
       "7                       6.45                4.65                 8.00   \n",
       "10                      7.42                3.01                 5.81   \n",
       "\n",
       "    twelve_months_CXCL1  twelve_months_IL-18  twelve_months_CSF-1  \n",
       "4                  8.79                 7.94                 8.46  \n",
       "7                  8.18                 8.71                 8.56  \n",
       "10                 8.82                 7.62                 8.39  "
      ]
     },
     "execution_count": 42,
     "metadata": {},
     "output_type": "execute_result"
    }
   ],
   "source": [
    "zero_weeks_biomarkers = biomarkers[biomarkers['PatientID'].str.contains(\"0week\")].rename(columns={c: 'zero_weeks_'+c for c in biomarkers.columns if c not in ['PatientID']})\n",
    "six_weeks_biomarkers = biomarkers[biomarkers['PatientID'].str.contains(\"6week\")].rename(columns={c: 'siz_weeks_'+c for c in biomarkers.columns if c not in ['PatientID']})\n",
    "twelve_months_biomarkers = biomarkers[biomarkers['PatientID'].str.contains(\"12months\")].rename(columns={c: 'twelve_months_'+c for c in biomarkers.columns if c not in ['PatientID']})\n",
    "\n",
    "twelve_months_biomarkers.head(3)"
   ]
  },
  {
   "cell_type": "markdown",
   "metadata": {},
   "source": [
    "### add prefixes to all variables"
   ]
  },
  {
   "cell_type": "code",
   "execution_count": 43,
   "metadata": {},
   "outputs": [
    {
     "data": {
      "text/html": [
       "<div>\n",
       "<style scoped>\n",
       "    .dataframe tbody tr th:only-of-type {\n",
       "        vertical-align: middle;\n",
       "    }\n",
       "\n",
       "    .dataframe tbody tr th {\n",
       "        vertical-align: top;\n",
       "    }\n",
       "\n",
       "    .dataframe thead th {\n",
       "        text-align: right;\n",
       "    }\n",
       "</style>\n",
       "<table border=\"1\" class=\"dataframe\">\n",
       "  <thead>\n",
       "    <tr style=\"text-align: right;\">\n",
       "      <th></th>\n",
       "      <th>PatientID</th>\n",
       "      <th>twelve_months_IL-8</th>\n",
       "      <th>twelve_months_VEGF-A</th>\n",
       "      <th>twelve_months_OPG</th>\n",
       "      <th>twelve_months_TGF-beta-1</th>\n",
       "      <th>twelve_months_IL-6</th>\n",
       "      <th>twelve_months_CXCL9</th>\n",
       "      <th>twelve_months_CXCL1</th>\n",
       "      <th>twelve_months_IL-18</th>\n",
       "      <th>twelve_months_CSF-1</th>\n",
       "    </tr>\n",
       "  </thead>\n",
       "  <tbody>\n",
       "    <tr>\n",
       "      <th>4</th>\n",
       "      <td>127</td>\n",
       "      <td>6.87</td>\n",
       "      <td>11.13</td>\n",
       "      <td>10.25</td>\n",
       "      <td>7.44</td>\n",
       "      <td>3.92</td>\n",
       "      <td>6.15</td>\n",
       "      <td>8.79</td>\n",
       "      <td>7.94</td>\n",
       "      <td>8.46</td>\n",
       "    </tr>\n",
       "    <tr>\n",
       "      <th>7</th>\n",
       "      <td>128</td>\n",
       "      <td>6.47</td>\n",
       "      <td>11.05</td>\n",
       "      <td>10.14</td>\n",
       "      <td>6.45</td>\n",
       "      <td>4.65</td>\n",
       "      <td>8.00</td>\n",
       "      <td>8.18</td>\n",
       "      <td>8.71</td>\n",
       "      <td>8.56</td>\n",
       "    </tr>\n",
       "    <tr>\n",
       "      <th>10</th>\n",
       "      <td>129</td>\n",
       "      <td>6.56</td>\n",
       "      <td>10.84</td>\n",
       "      <td>10.50</td>\n",
       "      <td>7.42</td>\n",
       "      <td>3.01</td>\n",
       "      <td>5.81</td>\n",
       "      <td>8.82</td>\n",
       "      <td>7.62</td>\n",
       "      <td>8.39</td>\n",
       "    </tr>\n",
       "  </tbody>\n",
       "</table>\n",
       "</div>"
      ],
      "text/plain": [
       "    PatientID  twelve_months_IL-8  twelve_months_VEGF-A  twelve_months_OPG  \\\n",
       "4         127                6.87                 11.13              10.25   \n",
       "7         128                6.47                 11.05              10.14   \n",
       "10        129                6.56                 10.84              10.50   \n",
       "\n",
       "    twelve_months_TGF-beta-1  twelve_months_IL-6  twelve_months_CXCL9  \\\n",
       "4                       7.44                3.92                 6.15   \n",
       "7                       6.45                4.65                 8.00   \n",
       "10                      7.42                3.01                 5.81   \n",
       "\n",
       "    twelve_months_CXCL1  twelve_months_IL-18  twelve_months_CSF-1  \n",
       "4                  8.79                 7.94                 8.46  \n",
       "7                  8.18                 8.71                 8.56  \n",
       "10                 8.82                 7.62                 8.39  "
      ]
     },
     "execution_count": 43,
     "metadata": {},
     "output_type": "execute_result"
    }
   ],
   "source": [
    "zero_weeks_biomarkers['PatientID'] = zero_weeks_biomarkers['PatientID'].str.removesuffix('-0weeks').astype('int64')\n",
    "six_weeks_biomarkers['PatientID'] = six_weeks_biomarkers['PatientID'].str.removesuffix('-6weeks').astype('int64')\n",
    "twelve_months_biomarkers['PatientID'] = twelve_months_biomarkers['PatientID'].str.removesuffix('-12months').astype('int64')\n",
    "\n",
    "twelve_months_biomarkers.head(3)"
   ]
  },
  {
   "cell_type": "markdown",
   "metadata": {},
   "source": [
    "### get count of unique patient IDs for covariates and biomarkers"
   ]
  },
  {
   "cell_type": "code",
   "execution_count": 44,
   "metadata": {},
   "outputs": [
    {
     "data": {
      "text/plain": [
       "118"
      ]
     },
     "execution_count": 44,
     "metadata": {},
     "output_type": "execute_result"
    }
   ],
   "source": [
    "covariates['PatientID'].nunique()"
   ]
  },
  {
   "cell_type": "code",
   "execution_count": 32,
   "metadata": {},
   "outputs": [
    {
     "data": {
      "text/plain": [
       "117"
      ]
     },
     "execution_count": 32,
     "metadata": {},
     "output_type": "execute_result"
    }
   ],
   "source": [
    "zero_weeks_biomarkers['PatientID'].nunique()"
   ]
  },
  {
   "cell_type": "code",
   "execution_count": 49,
   "metadata": {},
   "outputs": [
    {
     "data": {
      "text/plain": [
       "30    40\n",
       "Name: PatientID, dtype: int64"
      ]
     },
     "execution_count": 49,
     "metadata": {},
     "output_type": "execute_result"
    }
   ],
   "source": [
    "pd.concat([zero_weeks_biomarkers['PatientID'],covariates['PatientID']]).drop_duplicates(keep=False)"
   ]
  },
  {
   "cell_type": "code",
   "execution_count": 34,
   "metadata": {},
   "outputs": [
    {
     "data": {
      "text/plain": [
       "116"
      ]
     },
     "execution_count": 34,
     "metadata": {},
     "output_type": "execute_result"
    }
   ],
   "source": [
    "six_weeks_biomarkers['PatientID'].nunique()"
   ]
  },
  {
   "cell_type": "code",
   "execution_count": 50,
   "metadata": {},
   "outputs": [
    {
     "data": {
      "text/plain": [
       "26    36\n",
       "38    49\n",
       "Name: PatientID, dtype: int64"
      ]
     },
     "execution_count": 50,
     "metadata": {},
     "output_type": "execute_result"
    }
   ],
   "source": [
    "pd.concat([six_weeks_biomarkers['PatientID'],covariates['PatientID']]).drop_duplicates(keep=False)"
   ]
  },
  {
   "cell_type": "code",
   "execution_count": 51,
   "metadata": {},
   "outputs": [
    {
     "data": {
      "text/plain": [
       "114"
      ]
     },
     "execution_count": 51,
     "metadata": {},
     "output_type": "execute_result"
    }
   ],
   "source": [
    "twelve_months_biomarkers['PatientID'].nunique()"
   ]
  },
  {
   "cell_type": "code",
   "execution_count": 52,
   "metadata": {},
   "outputs": [
    {
     "data": {
      "text/plain": [
       "38     49\n",
       "90    117\n",
       "94    122\n",
       "96    126\n",
       "Name: PatientID, dtype: int64"
      ]
     },
     "execution_count": 52,
     "metadata": {},
     "output_type": "execute_result"
    }
   ],
   "source": [
    "pd.concat([twelve_months_biomarkers['PatientID'],covariates['PatientID']]).drop_duplicates(keep=False)"
   ]
  },
  {
   "cell_type": "markdown",
   "metadata": {},
   "source": [
    "<font color='red'>Incomplete data for some patients (36, 40, 49, 117, 122, 126)</font>"
   ]
  },
  {
   "cell_type": "markdown",
   "metadata": {},
   "source": [
    "### double merge to merge the three df into one. Use outer join to account for incomplete patient data (MISSING VALUES NULL)"
   ]
  },
  {
   "cell_type": "code",
   "execution_count": 53,
   "metadata": {},
   "outputs": [
    {
     "data": {
      "text/html": [
       "<div>\n",
       "<style scoped>\n",
       "    .dataframe tbody tr th:only-of-type {\n",
       "        vertical-align: middle;\n",
       "    }\n",
       "\n",
       "    .dataframe tbody tr th {\n",
       "        vertical-align: top;\n",
       "    }\n",
       "\n",
       "    .dataframe thead th {\n",
       "        text-align: right;\n",
       "    }\n",
       "</style>\n",
       "<table border=\"1\" class=\"dataframe\">\n",
       "  <thead>\n",
       "    <tr style=\"text-align: right;\">\n",
       "      <th></th>\n",
       "      <th>PatientID</th>\n",
       "      <th>zero_weeks_IL-8</th>\n",
       "      <th>zero_weeks_VEGF-A</th>\n",
       "      <th>zero_weeks_OPG</th>\n",
       "      <th>zero_weeks_TGF-beta-1</th>\n",
       "      <th>zero_weeks_IL-6</th>\n",
       "      <th>zero_weeks_CXCL9</th>\n",
       "      <th>zero_weeks_CXCL1</th>\n",
       "      <th>zero_weeks_IL-18</th>\n",
       "      <th>zero_weeks_CSF-1</th>\n",
       "      <th>...</th>\n",
       "      <th>siz_weeks_CSF-1</th>\n",
       "      <th>twelve_months_IL-8</th>\n",
       "      <th>twelve_months_VEGF-A</th>\n",
       "      <th>twelve_months_OPG</th>\n",
       "      <th>twelve_months_TGF-beta-1</th>\n",
       "      <th>twelve_months_IL-6</th>\n",
       "      <th>twelve_months_CXCL9</th>\n",
       "      <th>twelve_months_CXCL1</th>\n",
       "      <th>twelve_months_IL-18</th>\n",
       "      <th>twelve_months_CSF-1</th>\n",
       "    </tr>\n",
       "  </thead>\n",
       "  <tbody>\n",
       "    <tr>\n",
       "      <th>0</th>\n",
       "      <td>1</td>\n",
       "      <td>8.13</td>\n",
       "      <td>12.35</td>\n",
       "      <td>10.48</td>\n",
       "      <td>8.66</td>\n",
       "      <td>2.63</td>\n",
       "      <td>6.54</td>\n",
       "      <td>9.54</td>\n",
       "      <td>8.53</td>\n",
       "      <td>8.27</td>\n",
       "      <td>...</td>\n",
       "      <td>8.19</td>\n",
       "      <td>8.64</td>\n",
       "      <td>12.48</td>\n",
       "      <td>10.68</td>\n",
       "      <td>8.46</td>\n",
       "      <td>2.56</td>\n",
       "      <td>6.64</td>\n",
       "      <td>9.59</td>\n",
       "      <td>8.79</td>\n",
       "      <td>8.41</td>\n",
       "    </tr>\n",
       "    <tr>\n",
       "      <th>1</th>\n",
       "      <td>3</td>\n",
       "      <td>6.55</td>\n",
       "      <td>11.21</td>\n",
       "      <td>10.49</td>\n",
       "      <td>6.83</td>\n",
       "      <td>2.58</td>\n",
       "      <td>5.31</td>\n",
       "      <td>6.71</td>\n",
       "      <td>7.71</td>\n",
       "      <td>8.30</td>\n",
       "      <td>...</td>\n",
       "      <td>8.35</td>\n",
       "      <td>7.44</td>\n",
       "      <td>11.67</td>\n",
       "      <td>10.70</td>\n",
       "      <td>7.81</td>\n",
       "      <td>2.72</td>\n",
       "      <td>5.54</td>\n",
       "      <td>8.78</td>\n",
       "      <td>7.77</td>\n",
       "      <td>8.51</td>\n",
       "    </tr>\n",
       "    <tr>\n",
       "      <th>2</th>\n",
       "      <td>4</td>\n",
       "      <td>6.47</td>\n",
       "      <td>11.13</td>\n",
       "      <td>10.72</td>\n",
       "      <td>6.90</td>\n",
       "      <td>5.62</td>\n",
       "      <td>5.46</td>\n",
       "      <td>7.73</td>\n",
       "      <td>8.02</td>\n",
       "      <td>8.19</td>\n",
       "      <td>...</td>\n",
       "      <td>8.27</td>\n",
       "      <td>7.22</td>\n",
       "      <td>11.50</td>\n",
       "      <td>10.83</td>\n",
       "      <td>7.41</td>\n",
       "      <td>4.33</td>\n",
       "      <td>5.75</td>\n",
       "      <td>8.24</td>\n",
       "      <td>8.19</td>\n",
       "      <td>8.18</td>\n",
       "    </tr>\n",
       "  </tbody>\n",
       "</table>\n",
       "<p>3 rows × 28 columns</p>\n",
       "</div>"
      ],
      "text/plain": [
       "   PatientID  zero_weeks_IL-8  zero_weeks_VEGF-A  zero_weeks_OPG  \\\n",
       "0          1             8.13              12.35           10.48   \n",
       "1          3             6.55              11.21           10.49   \n",
       "2          4             6.47              11.13           10.72   \n",
       "\n",
       "   zero_weeks_TGF-beta-1  zero_weeks_IL-6  zero_weeks_CXCL9  zero_weeks_CXCL1  \\\n",
       "0                   8.66             2.63              6.54              9.54   \n",
       "1                   6.83             2.58              5.31              6.71   \n",
       "2                   6.90             5.62              5.46              7.73   \n",
       "\n",
       "   zero_weeks_IL-18  zero_weeks_CSF-1  ...  siz_weeks_CSF-1  \\\n",
       "0              8.53              8.27  ...             8.19   \n",
       "1              7.71              8.30  ...             8.35   \n",
       "2              8.02              8.19  ...             8.27   \n",
       "\n",
       "   twelve_months_IL-8  twelve_months_VEGF-A  twelve_months_OPG  \\\n",
       "0                8.64                 12.48              10.68   \n",
       "1                7.44                 11.67              10.70   \n",
       "2                7.22                 11.50              10.83   \n",
       "\n",
       "   twelve_months_TGF-beta-1  twelve_months_IL-6  twelve_months_CXCL9  \\\n",
       "0                      8.46                2.56                 6.64   \n",
       "1                      7.81                2.72                 5.54   \n",
       "2                      7.41                4.33                 5.75   \n",
       "\n",
       "   twelve_months_CXCL1  twelve_months_IL-18  twelve_months_CSF-1  \n",
       "0                 9.59                 8.79                 8.41  \n",
       "1                 8.78                 7.77                 8.51  \n",
       "2                 8.24                 8.19                 8.18  \n",
       "\n",
       "[3 rows x 28 columns]"
      ]
     },
     "execution_count": 53,
     "metadata": {},
     "output_type": "execute_result"
    }
   ],
   "source": [
    "complete_biomarkers = pd.merge(pd.merge(zero_weeks_biomarkers, six_weeks_biomarkers, on='PatientID', how='outer'), twelve_months_biomarkers, on='PatientID', how='outer')\n",
    "complete_biomarkers.head(3)"
   ]
  },
  {
   "cell_type": "code",
   "execution_count": 54,
   "metadata": {},
   "outputs": [
    {
     "data": {
      "text/plain": [
       "<bound method NDFrame.describe of      PatientID  zero_weeks_IL-8  zero_weeks_VEGF-A  zero_weeks_OPG  \\\n",
       "0            1             8.13              12.35           10.48   \n",
       "1            3             6.55              11.21           10.49   \n",
       "2            4             6.47              11.13           10.72   \n",
       "3            5             6.41              11.15           10.60   \n",
       "4            6             6.54              11.47           10.20   \n",
       "..         ...              ...                ...             ...   \n",
       "113        143             6.67              11.12           10.60   \n",
       "114        149             8.58              12.90           11.30   \n",
       "115        150             6.15              11.05           10.43   \n",
       "116        151             7.98              11.89           10.79   \n",
       "117        152             6.93              10.95           10.46   \n",
       "\n",
       "     zero_weeks_TGF-beta-1  zero_weeks_IL-6  zero_weeks_CXCL9  \\\n",
       "0                     8.66             2.63              6.54   \n",
       "1                     6.83             2.58              5.31   \n",
       "2                     6.90             5.62              5.46   \n",
       "3                     7.26             1.96              5.35   \n",
       "4                     7.16             3.38              6.51   \n",
       "..                     ...              ...               ...   \n",
       "113                   6.55             3.41              6.67   \n",
       "114                   9.42             3.82              6.75   \n",
       "115                   7.16             4.47              6.06   \n",
       "116                   7.71             5.90              7.51   \n",
       "117                   6.62             2.64              6.32   \n",
       "\n",
       "     zero_weeks_CXCL1  zero_weeks_IL-18  zero_weeks_CSF-1  ...  \\\n",
       "0                9.54              8.53              8.27  ...   \n",
       "1                6.71              7.71              8.30  ...   \n",
       "2                7.73              8.02              8.19  ...   \n",
       "3                7.15              7.66              8.10  ...   \n",
       "4                7.79              8.54              8.35  ...   \n",
       "..                ...               ...               ...  ...   \n",
       "113              6.60              7.26              8.32  ...   \n",
       "114             10.12              9.15              9.23  ...   \n",
       "115              6.36              7.95              8.48  ...   \n",
       "116              9.41              8.61              9.24  ...   \n",
       "117              6.17              8.12              8.16  ...   \n",
       "\n",
       "     siz_weeks_CSF-1  twelve_months_IL-8  twelve_months_VEGF-A  \\\n",
       "0               8.19                8.64                 12.48   \n",
       "1               8.35                7.44                 11.67   \n",
       "2               8.27                7.22                 11.50   \n",
       "3               8.59                7.47                 11.76   \n",
       "4               8.51                6.63                 11.27   \n",
       "..               ...                 ...                   ...   \n",
       "113             8.46                7.06                 11.39   \n",
       "114             8.20                8.01                 11.84   \n",
       "115             8.27                6.65                 11.30   \n",
       "116             8.32                6.32                 10.68   \n",
       "117             8.22                8.13                 11.55   \n",
       "\n",
       "     twelve_months_OPG  twelve_months_TGF-beta-1  twelve_months_IL-6  \\\n",
       "0                10.68                      8.46                2.56   \n",
       "1                10.70                      7.81                2.72   \n",
       "2                10.83                      7.41                4.33   \n",
       "3                10.76                      7.53                2.31   \n",
       "4                10.53                      7.04                3.10   \n",
       "..                 ...                       ...                 ...   \n",
       "113              10.86                      7.17                3.48   \n",
       "114              10.69                      8.50                2.50   \n",
       "115              10.41                      7.54                3.82   \n",
       "116              10.64                      5.93                2.00   \n",
       "117              10.50                      8.23                2.20   \n",
       "\n",
       "     twelve_months_CXCL9  twelve_months_CXCL1  twelve_months_IL-18  \\\n",
       "0                   6.64                 9.59                 8.79   \n",
       "1                   5.54                 8.78                 7.77   \n",
       "2                   5.75                 8.24                 8.19   \n",
       "3                   5.61                 7.36                 7.79   \n",
       "4                   6.63                 7.01                 9.78   \n",
       "..                   ...                  ...                  ...   \n",
       "113                 7.90                 7.84                 7.38   \n",
       "114                 6.03                 8.98                 8.42   \n",
       "115                 6.40                 7.70                 7.89   \n",
       "116                 6.40                 7.26                 7.74   \n",
       "117                 6.84                 8.97                 8.29   \n",
       "\n",
       "     twelve_months_CSF-1  \n",
       "0                   8.41  \n",
       "1                   8.51  \n",
       "2                   8.18  \n",
       "3                   8.62  \n",
       "4                   8.43  \n",
       "..                   ...  \n",
       "113                 8.55  \n",
       "114                 8.68  \n",
       "115                 8.51  \n",
       "116                 8.64  \n",
       "117                 8.18  \n",
       "\n",
       "[118 rows x 28 columns]>"
      ]
     },
     "execution_count": 54,
     "metadata": {},
     "output_type": "execute_result"
    }
   ],
   "source": [
    "complete_biomarkers.describe"
   ]
  },
  {
   "cell_type": "markdown",
   "metadata": {},
   "source": [
    "### test that complete_biomarkers and covariates are the same lenght and that they contain the same patient ids with no unique values in either"
   ]
  },
  {
   "cell_type": "code",
   "execution_count": 56,
   "metadata": {},
   "outputs": [
    {
     "data": {
      "text/plain": [
       "True"
      ]
     },
     "execution_count": 56,
     "metadata": {},
     "output_type": "execute_result"
    }
   ],
   "source": [
    "complete_biomarkers['PatientID'].nunique() == covariates['PatientID'].nunique() and len(pd.concat([complete_biomarkers['PatientID'],covariates['PatientID']]).drop_duplicates(keep=False)) == 0"
   ]
  },
  {
   "cell_type": "markdown",
   "metadata": {},
   "source": [
    "### merge complete_biomarkers and covariates"
   ]
  },
  {
   "cell_type": "code",
   "execution_count": 58,
   "metadata": {},
   "outputs": [],
   "source": [
    "covariates_biomarkers = pd.merge(covariates, complete_biomarkers, on='PatientID', how='outer')"
   ]
  },
  {
   "cell_type": "markdown",
   "metadata": {},
   "source": [
    "### produce .csv"
   ]
  },
  {
   "cell_type": "code",
   "execution_count": 59,
   "metadata": {},
   "outputs": [],
   "source": [
    "covariates_biomarkers.to_csv('covariates_biomarkers.csv', encoding='utf-8', index=True)"
   ]
  }
 ],
 "metadata": {
  "kernelspec": {
   "display_name": "Python 3",
   "language": "python",
   "name": "python3"
  },
  "language_info": {
   "codemirror_mode": {
    "name": "ipython",
    "version": 3
   },
   "file_extension": ".py",
   "mimetype": "text/x-python",
   "name": "python",
   "nbconvert_exporter": "python",
   "pygments_lexer": "ipython3",
   "version": "3.11.8"
  }
 },
 "nbformat": 4,
 "nbformat_minor": 2
}
